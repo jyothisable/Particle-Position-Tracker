{
 "cells": [
  {
   "cell_type": "code",
   "execution_count": 144,
   "metadata": {},
   "outputs": [],
   "source": [
    "import numpy as np\n",
    "import pandas as pd\n",
    "import glob\n",
    "import os\n",
    "import natsort"
   ]
  },
  {
   "cell_type": "code",
   "execution_count": 145,
   "metadata": {},
   "outputs": [],
   "source": [
    "# Control Boundaries (both lower and upper bounds inside the control)\n",
    "xLim = [0,7]\n",
    "yLim = [2,8]\n",
    "zLim = [0,0.1]"
   ]
  },
  {
   "cell_type": "code",
   "execution_count": 146,
   "metadata": {},
   "outputs": [],
   "source": [
    "cnt = 0\n",
    "for csv in natsort.natsorted(glob.glob(\"data/input/*.csv\")):\n",
    "  dfCurrent = pd.read_csv(csv,delim_whitespace=True)\n",
    "  if cnt ==0: \n",
    "    dfPrev = dfCurrent\n",
    "    cnt += 1\n",
    "    continue\n",
    "  dfNew = dfPrev[(~dfPrev['ID'].isin(dfCurrent[\"ID\"])) & \n",
    "                 (dfPrev['XPosition']>=xLim[0]) &\n",
    "                 (dfPrev['XPosition'] <= xLim[1]) &\n",
    "                 (dfPrev['YPosition']>=yLim[0]) &\n",
    "                 (dfPrev['YPosition'] <= yLim[1]) &\n",
    "                 (dfPrev['ZPosition']>=zLim[0]) &\n",
    "                 (dfPrev['ZPosition'] <= zLim[1])]\n",
    "dfNew.to_csv(\"data/output/removedParticles.csv\",index=False)"
   ]
  }
 ],
 "metadata": {
  "interpreter": {
   "hash": "5e43a0b022b90b679b39315296851ca63946eb949040a0e73814ddc20d4be7dc"
  },
  "kernelspec": {
   "display_name": "Python 3.9.7 64-bit ('base': conda)",
   "language": "python",
   "name": "python3"
  },
  "language_info": {
   "codemirror_mode": {
    "name": "ipython",
    "version": 3
   },
   "file_extension": ".py",
   "mimetype": "text/x-python",
   "name": "python",
   "nbconvert_exporter": "python",
   "pygments_lexer": "ipython3",
   "version": "3.9.7"
  },
  "orig_nbformat": 4
 },
 "nbformat": 4,
 "nbformat_minor": 2
}
