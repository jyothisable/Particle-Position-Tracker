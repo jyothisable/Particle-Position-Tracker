{
 "cells": [
  {
   "cell_type": "code",
   "execution_count": 47,
   "metadata": {},
   "outputs": [],
   "source": [
    "import pandas as pd\n",
    "import glob\n",
    "import os\n",
    "import natsort"
   ]
  },
  {
   "cell_type": "code",
   "execution_count": 48,
   "metadata": {},
   "outputs": [],
   "source": [
    "# Control Boundaries (both lower and upper bounds inside the control)\n",
    "xLim = [0,7]\n",
    "yLim = [2,8]\n",
    "zLim = [0,0.1]"
   ]
  },
  {
   "cell_type": "code",
   "execution_count": 49,
   "metadata": {},
   "outputs": [
    {
     "name": "stdout",
     "output_type": "stream",
     "text": [
      "File already exist, press \"y\" to overwrite \"n\" to exit\n"
     ]
    }
   ],
   "source": [
    "# Removing already existing file in output folder\n",
    "if os.path.exists('data/output/removedParticles.csv'):\n",
    "  print('File already exist, press \"y\" to overwrite \"n\" to exit')\n",
    "  if input() == 'y':\n",
    "    os.remove('data/output/removedParticles.csv')\n",
    "  else:\n",
    "    exit()"
   ]
  },
  {
   "cell_type": "code",
   "execution_count": 50,
   "metadata": {},
   "outputs": [],
   "source": [
    "dfPrev = None\n",
    "for csv in natsort.natsorted(glob.glob(\"data/input/*.csv\")):\n",
    "  dfCurrent = pd.read_csv(csv,delim_whitespace=True)\n",
    "  if not isinstance(dfPrev, pd.DataFrame): \n",
    "    dfNew = pd.DataFrame(columns=list(dfCurrent))\n",
    "    dfNew.to_csv(\"data/output/removedParticles.csv\",mode='a',index=False)\n",
    "  else: \n",
    "    dfNew = dfPrev[(~dfPrev['ID'].isin(dfCurrent[\"ID\"])) & \n",
    "                  (dfPrev['XPosition']>=xLim[0]) &\n",
    "                  (dfPrev['XPosition'] <= xLim[1]) &\n",
    "                  (dfPrev['YPosition']>=yLim[0]) &\n",
    "                  (dfPrev['YPosition'] <= yLim[1]) &\n",
    "                  (dfPrev['ZPosition']>=zLim[0]) &\n",
    "                  (dfPrev['ZPosition'] <= zLim[1])]\n",
    "    dfNew.to_csv(\"data/output/removedParticles.csv\",mode='a',index=False,header=False)\n",
    "  dfPrev = dfCurrent"
   ]
  },
  {
   "cell_type": "code",
   "execution_count": 51,
   "metadata": {},
   "outputs": [
    {
     "name": "stdout",
     "output_type": "stream",
     "text": [
      "Successful...\n",
      "file saved in data/output/removedParticles.csv\n",
      "        Time,ID,XPosition,YPosition,ZPosition,Diameter\n",
      "0     0.983,0.0,0.637105,2.23885,0.0133948,2.62074e-07\n",
      "1    0.983,50.0,0.575319,2.0903,0.00749335,9.92816e-05\n",
      "2    0.983,75.0,0.794704,2.20078,0.0370559,2.62074e-07\n",
      "3    0.983,91.0,0.587294,2.05715,0.0979509,5.85923e-06\n",
      "4    0.983,93.0,0.496689,2.16575,0.0415107,5.24699e-05\n",
      "..                                                 ...\n",
      "127  0.7105,6646.0,0.593426,2.10518,0.00518144,5.85...\n",
      "128  0.708,6676.0,0.66308,2.01052,0.00192855,5.8592...\n",
      "129  0.7055,6736.0,0.615037,2.07733,0.00978589,5.85...\n",
      "130  0.703,6781.0,0.635887,2.01205,0.0234432,5.8592...\n",
      "131  0.6955,7005.0,0.647938,2.01823,0.00982717,2.62...\n",
      "\n",
      "[132 rows x 1 columns]\n"
     ]
    }
   ],
   "source": [
    "print('Successful...')\n",
    "print('file saved in data/output/removedParticles.csv')\n",
    "dfSaved = pd.read_csv(\"data/output/removedParticles.csv\",delim_whitespace=True)\n",
    "print(dfSaved)"
   ]
  }
 ],
 "metadata": {
  "interpreter": {
   "hash": "5e43a0b022b90b679b39315296851ca63946eb949040a0e73814ddc20d4be7dc"
  },
  "kernelspec": {
   "display_name": "Python 3.9.7 64-bit ('base': conda)",
   "language": "python",
   "name": "python3"
  },
  "language_info": {
   "codemirror_mode": {
    "name": "ipython",
    "version": 3
   },
   "file_extension": ".py",
   "mimetype": "text/x-python",
   "name": "python",
   "nbconvert_exporter": "python",
   "pygments_lexer": "ipython3",
   "version": "3.9.7"
  },
  "orig_nbformat": 4
 },
 "nbformat": 4,
 "nbformat_minor": 2
}
